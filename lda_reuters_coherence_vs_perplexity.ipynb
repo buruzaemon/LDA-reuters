{
 "cells": [
  {
   "cell_type": "markdown",
   "id": "35896ca0-dd64-48e3-a8c7-d364f9223617",
   "metadata": {},
   "source": [
    "# Topic Modelling with Latent Dirichlet Allocation\n",
    "\n",
    "## Coherence vs Perplexity"
   ]
  },
  {
   "cell_type": "code",
   "execution_count": null,
   "id": "28a7c2b5-0594-426c-9401-0be2838c9671",
   "metadata": {},
   "outputs": [],
   "source": [
    "import logging\n",
    "logging.basicConfig(\n",
    "    format='%(asctime)s : %(levelname)s : %(message)s', \n",
    "    level=logging.WARNING\n",
    ")"
   ]
  },
  {
   "cell_type": "code",
   "execution_count": null,
   "id": "019f6548-95f1-4d26-8722-eee6d7bf633a",
   "metadata": {},
   "outputs": [],
   "source": [
    "import matplotlib.pyplot as plt\n",
    "import multiprocessing as mp\n",
    "import numpy as np\n",
    "import os\n",
    "import pickle\n",
    "import pyLDAvis\n",
    "import time\n",
    "\n",
    "from eda.corpus.reuterscorpus import ReutersCorpus\n",
    "\n",
    "from gensim.models import CoherenceModel, LdaMulticore\n",
    "from gensim.corpora import Dictionary, MmCorpus\n",
    "from os import path\n",
    "from tqdm.notebook import tqdm"
   ]
  },
  {
   "cell_type": "code",
   "execution_count": null,
   "id": "68344019-c10b-4b5d-82a9-1e07786c35e3",
   "metadata": {},
   "outputs": [],
   "source": [
    "datadir = path.abspath(path.join(os.getcwd(), \"data\"))"
   ]
  },
  {
   "cell_type": "markdown",
   "id": "d0c85d1c-d5e3-4500-8df9-bb604791a804",
   "metadata": {},
   "source": [
    "----"
   ]
  },
  {
   "cell_type": "code",
   "execution_count": null,
   "id": "10c4877f-9d54-4b38-8274-a0b9f36a9c2e",
   "metadata": {},
   "outputs": [],
   "source": [
    "# Read in the corpus from within the archive file\n",
    "fin = path.join(datadir, \"reuters21578.tar.gz\")\n",
    "rc = ReutersCorpus(fin)"
   ]
  },
  {
   "cell_type": "code",
   "execution_count": null,
   "id": "1d57e08c-23db-414b-82a2-93d72e8e2ade",
   "metadata": {},
   "outputs": [],
   "source": [
    "# Filter out some of the more common words,\n",
    "# and some of the less-common ones as well\n",
    "rc.dictionary.filter_extremes(no_below=20, no_above=0.1)\n",
    "rc.dictionary.compactify()"
   ]
  },
  {
   "cell_type": "code",
   "execution_count": null,
   "id": "ff49794e-d8eb-40a5-b774-1040343da9a3",
   "metadata": {},
   "outputs": [],
   "source": [
    "# Serialize the Reuters 21578 corpus\n",
    "fout = path.join(datadir, \"reuters21578.mm\")\n",
    "MmCorpus.serialize(fout, rc)"
   ]
  },
  {
   "cell_type": "code",
   "execution_count": null,
   "id": "9a446c61-8e76-4010-a95e-074bf53f31ea",
   "metadata": {},
   "outputs": [],
   "source": [
    "# Save the dictionary to file as text\n",
    "fout = path.join(datadir, \"reuters21578.dict.txt\")\n",
    "rc.dictionary.save_as_text(fout)"
   ]
  },
  {
   "cell_type": "code",
   "execution_count": null,
   "id": "71045cec-cff6-4793-a9e6-762767d48bee",
   "metadata": {},
   "outputs": [],
   "source": [
    "# Save the text of the corpus for later use\n",
    "texts = list(rc.get_texts())\n",
    "\n",
    "fout = path.join(datadir, \"texts.pkl\")\n",
    "with open(fout, \"wb\") as f:\n",
    "    pickle.dump(texts, f)"
   ]
  },
  {
   "cell_type": "markdown",
   "id": "26cbe099-aaac-4ef3-8e33-b9fc16906adf",
   "metadata": {},
   "source": [
    "----"
   ]
  },
  {
   "cell_type": "code",
   "execution_count": null,
   "id": "d3738d11-f30b-4450-8049-a1b545b1896c",
   "metadata": {},
   "outputs": [],
   "source": [
    "fin = path.join(datadir, \"reuters21578.dict.txt\")\n",
    "dictionary = Dictionary.load_from_text(fin)"
   ]
  },
  {
   "cell_type": "code",
   "execution_count": null,
   "id": "024aca75-e144-4459-bb06-fd3c74957ad1",
   "metadata": {},
   "outputs": [],
   "source": [
    "fin = path.join(datadir, \"reuters21578.mm\")\n",
    "corpus = MmCorpus(fin)"
   ]
  },
  {
   "cell_type": "code",
   "execution_count": null,
   "id": "d4e42646-bfcc-45ae-91ab-e849d5255bd2",
   "metadata": {},
   "outputs": [],
   "source": [
    "fin = path.join(datadir, \"texts.pkl\")\n",
    "with open(fin, \"rb\") as f:\n",
    "    texts = pickle.load(f)"
   ]
  },
  {
   "cell_type": "code",
   "execution_count": null,
   "id": "7e2cae92-fd3b-48fc-980f-59517ebb8a7a",
   "metadata": {},
   "outputs": [],
   "source": [
    "start = 5\n",
    "limit = 15\n",
    "step = 5\n"
   ]
  },
  {
   "cell_type": "code",
   "execution_count": null,
   "id": "6dc101eb-c1a5-4c37-af48-7bcbdb30b8db",
   "metadata": {},
   "outputs": [],
   "source": [
    "coherence_vals = []\n",
    "perplexity_vals = []\n",
    "\n",
    "for num_topics in tqdm(range(start, limit, step)):\n",
    "    lda_model = LdaMulticore(\n",
    "        corpus=corpus,\n",
    "        id2word=dictionary,\n",
    "        num_topics=num_topics,\n",
    "        passes=20,\n",
    "        workers=mp.cpu_count()-1\n",
    "    )\n",
    "    \n",
    "    perplexity_vals.append(\n",
    "        np.exp2(-lda_model.log_perplexity(corpus))\n",
    "    )\n",
    "    \n",
    "    coherence_model_lda = CoherenceModel(\n",
    "        model=lda_model, \n",
    "        texts=texts, \n",
    "        dictionary=dictionary, \n",
    "        coherence=\"c_v\"\n",
    "    )\n",
    "    coherence_vals.append(\n",
    "        coherence_model_lda.get_coherence()\n",
    "    )"
   ]
  },
  {
   "cell_type": "code",
   "execution_count": null,
   "id": "848e71b2-0fc3-40df-884f-8b31dd4a6994",
   "metadata": {},
   "outputs": [],
   "source": [
    "x = range(start, limit, step)\n",
    "\n",
    "c1, bgcolor, c2 = [\"#ef8a62\", \"#f7f7f7\", \"#67a9cf\"]\n",
    "\n",
    "\n",
    "fig, ax1 = plt.subplots(figsize=(12,5))\n",
    "\n",
    "# coherence plot\n",
    "ax1.plot(x, coherence_vals, \"o-\", color=c1)\n",
    "ax1.set_xlabel(\"Number of topics\")\n",
    "ax1.set_ylabel(\"Coherence\", color=c1)\n",
    "ax1.tick_params(\"y\", colors=c1)\n",
    "\n",
    "# perplexity plot\n",
    "ax2 = ax1.twinx()\n",
    "ax2.plot(x, perplexity_vals, \"o-\", color=c2)\n",
    "ax2.set_ylabel(\"Perplexity\", color=c2)\n",
    "ax2.tick_params(\"y\", colors=c2)\n",
    "\n",
    "# x-axis is shared \n",
    "ax1.set_xticks(x)\n",
    "ax1.set_facecolor(bgcolor)\n",
    "\n",
    "fig.tight_layout()\n",
    "plt.title(\"LDA: Coherence vs Perplexity\")\n",
    "plt.show()"
   ]
  },
  {
   "cell_type": "markdown",
   "id": "929c562b-6f14-478e-a6f3-c69500c637df",
   "metadata": {},
   "source": [
    "----"
   ]
  },
  {
   "cell_type": "code",
   "execution_count": null,
   "id": "f79c393c-7585-42fa-8cbb-749b03231204",
   "metadata": {},
   "outputs": [],
   "source": [
    "lda_example = LdaMulticore(\n",
    "    corpus=corpus,\n",
    "    id2word=dictionary,\n",
    "    num_topics=35,\n",
    "    passes=20,\n",
    "    workers=mp.cpu_count()-1\n",
    ")"
   ]
  },
  {
   "cell_type": "code",
   "execution_count": null,
   "id": "f8cc14f7-c540-47d9-b899-3eabf5974209",
   "metadata": {},
   "outputs": [],
   "source": [
    "pyLDAvis.enable_notebook()\n",
    "\n",
    "vis = pyLDAvis.gensim_models.prepare(\n",
    "    lda_example,\n",
    "    corpus, \n",
    "    dictionary, \n",
    "    n_jobs=1, \n",
    "    sort_topics=False\n",
    ")\n",
    "\n",
    "pyLDAvis.display(vis)"
   ]
  },
  {
   "cell_type": "code",
   "execution_count": null,
   "id": "8daeba8f-2d4a-47b9-a87c-9da10444dbf0",
   "metadata": {},
   "outputs": [],
   "source": []
  }
 ],
 "metadata": {
  "kernelspec": {
   "display_name": "Python 3 (ipykernel)",
   "language": "python",
   "name": "python3"
  },
  "language_info": {
   "codemirror_mode": {
    "name": "ipython",
    "version": 3
   },
   "file_extension": ".py",
   "mimetype": "text/x-python",
   "name": "python",
   "nbconvert_exporter": "python",
   "pygments_lexer": "ipython3",
   "version": "3.9.18"
  }
 },
 "nbformat": 4,
 "nbformat_minor": 5
}
